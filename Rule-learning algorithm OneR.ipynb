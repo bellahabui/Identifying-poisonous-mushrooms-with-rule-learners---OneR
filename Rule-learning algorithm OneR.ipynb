{
  "nbformat": 4,
  "nbformat_minor": 0,
  "metadata": {
    "colab": {
      "name": "Redo_Assignment 3_Part B.ipynb.ipynb",
      "provenance": [],
      "collapsed_sections": []
    },
    "kernelspec": {
      "name": "python3",
      "display_name": "Python 3"
    }
  },
  "cells": [
    {
      "cell_type": "markdown",
      "metadata": {
        "id": "B0DOToESsqf_",
        "colab_type": "text"
      },
      "source": [
        "# Step 1 – Collecting data\n",
        "Utilize the Mushroom dataset by Jeff Schlimmer of Carnegie Mellon University. The raw dataset is available freely at the UCI Machine Learning Repository (http://archive.ics. uci.edu/ml)"
      ]
    },
    {
      "cell_type": "code",
      "metadata": {
        "id": "qB0bzgqdsxeh",
        "colab_type": "code",
        "colab": {}
      },
      "source": [
        "import numpy as np\n",
        "import pandas as pd\n",
        "%matplotlib inline\n",
        "from matplotlib import pyplot as plt\n",
        "from sklearn import tree\n",
        "import sklearn.metrics as metrics"
      ],
      "execution_count": 0,
      "outputs": []
    },
    {
      "cell_type": "markdown",
      "metadata": {
        "id": "pX-gVujyszPx",
        "colab_type": "text"
      },
      "source": [
        "#Step 2 Exploring and preparing the data"
      ]
    },
    {
      "cell_type": "code",
      "metadata": {
        "id": "DQSDO7e9s1pz",
        "colab_type": "code",
        "colab": {
          "base_uri": "https://localhost:8080/",
          "height": 122
        },
        "outputId": "f31428c1-7c35-4fa7-cff7-191406e6ba92"
      },
      "source": [
        "from google.colab import drive\n",
        "drive.mount('/content/gdrive')"
      ],
      "execution_count": 7,
      "outputs": [
        {
          "output_type": "stream",
          "text": [
            "Go to this URL in a browser: https://accounts.google.com/o/oauth2/auth?client_id=947318989803-6bn6qk8qdgf4n4g3pfee6491hc0brc4i.apps.googleusercontent.com&redirect_uri=urn%3aietf%3awg%3aoauth%3a2.0%3aoob&response_type=code&scope=email%20https%3a%2f%2fwww.googleapis.com%2fauth%2fdocs.test%20https%3a%2f%2fwww.googleapis.com%2fauth%2fdrive%20https%3a%2f%2fwww.googleapis.com%2fauth%2fdrive.photos.readonly%20https%3a%2f%2fwww.googleapis.com%2fauth%2fpeopleapi.readonly\n",
            "\n",
            "Enter your authorization code:\n",
            "··········\n",
            "Mounted at /content/gdrive\n"
          ],
          "name": "stdout"
        }
      ]
    },
    {
      "cell_type": "code",
      "metadata": {
        "id": "qP5RPAc_yYrF",
        "colab_type": "code",
        "colab": {}
      },
      "source": [
        "df = 'gdrive/My Drive/ALY_6020/mushrooms.csv'\n",
        "data = pd.read_csv(df)"
      ],
      "execution_count": 0,
      "outputs": []
    },
    {
      "cell_type": "code",
      "metadata": {
        "id": "t_2-OzKSFWTk",
        "colab_type": "code",
        "colab": {}
      },
      "source": [
        "Y = data['type']\n",
        "X = data[data.columns[1:]]\n",
        "data.head (5)"
      ],
      "execution_count": 0,
      "outputs": []
    },
    {
      "cell_type": "code",
      "metadata": {
        "id": "rLh7Di7BdG4l",
        "colab_type": "code",
        "colab": {
          "base_uri": "https://localhost:8080/",
          "height": 34
        },
        "outputId": "38881dfb-d412-4982-b632-eda84320fc5d"
      },
      "source": [
        "data.shape"
      ],
      "execution_count": 93,
      "outputs": [
        {
          "output_type": "execute_result",
          "data": {
            "text/plain": [
              "(8124, 23)"
            ]
          },
          "metadata": {
            "tags": []
          },
          "execution_count": 93
        }
      ]
    },
    {
      "cell_type": "code",
      "metadata": {
        "id": "xTsOrpLEdRvS",
        "colab_type": "code",
        "colab": {
          "base_uri": "https://localhost:8080/",
          "height": 425
        },
        "outputId": "075f17d6-9f07-4e7b-bcc8-c09f1e553f24"
      },
      "source": [
        "print(data.isna().sum())"
      ],
      "execution_count": 94,
      "outputs": [
        {
          "output_type": "stream",
          "text": [
            "type                        0\n",
            "cap_shape                   0\n",
            "cap_surface                 0\n",
            "cap_color                   0\n",
            "bruises                     0\n",
            "odor                        0\n",
            "gill_attachment             0\n",
            "gill_spacing                0\n",
            "gill_size                   0\n",
            "gill_color                  0\n",
            "stalk_shape                 0\n",
            "stalk_root                  0\n",
            "stalk_surface_above_ring    0\n",
            "stalk_surface_below_ring    0\n",
            "stalk_color_above_ring      0\n",
            "stalk_color_below_ring      0\n",
            "veil_type                   0\n",
            "veil_color                  0\n",
            "ring_number                 0\n",
            "ring_type                   0\n",
            "spore_print_color           0\n",
            "population                  0\n",
            "habitat                     0\n",
            "dtype: int64\n"
          ],
          "name": "stdout"
        }
      ]
    },
    {
      "cell_type": "markdown",
      "metadata": {
        "id": "kbJKjcsAGiDo",
        "colab_type": "text"
      },
      "source": [
        "#Step 3 – Training a model on the data"
      ]
    },
    {
      "cell_type": "code",
      "metadata": {
        "id": "gV2NHcOOI34E",
        "colab_type": "code",
        "colab": {}
      },
      "source": [
        "def train_one_rule(X, Y):\n",
        "  ideal_feature = None\n",
        "  max_accuracy = 0\n",
        "  rules = {}\n",
        "  \n",
        "  dfx = pd.DataFrame(X)\n",
        "  \n",
        "  for i in dfx:\n",
        "    options_values = set(dfx[i])\n",
        "    join_data = pd.DataFrame({\"feature\":dfx[i], \"label\":Y})\n",
        "    cross_table = pd.crosstab(join_data.feature, join_data.label)\n",
        "    summary = cross_table.idxmax(axis=1)\n",
        "    rules[i] = dict(summary)\n",
        "    \n",
        "    counts = 0\n",
        "    for idx, row in join_data.iterrows():\n",
        "        if row['label'] == rules[i][row['feature']]:\n",
        "            counts += 1\n",
        "\n",
        "    accuracy = (counts/len(Y))\n",
        "    \n",
        "    if accuracy > max_accuracy:\n",
        "        max_accuracy = accuracy\n",
        "        ideal_feature = i\n",
        "\n",
        "  return {\"feature\": ideal_feature, \"rule\": rules[ideal_feature]}\n"
      ],
      "execution_count": 0,
      "outputs": []
    },
    {
      "cell_type": "code",
      "metadata": {
        "id": "OGfAUTY9JVEP",
        "colab_type": "code",
        "colab": {
          "base_uri": "https://localhost:8080/",
          "height": 102
        },
        "outputId": "d8f36c04-8eeb-4d4c-d63a-496d313f830a"
      },
      "source": [
        "def train_test_split(X, Y, n):\n",
        "    X_train = X[:n]\n",
        "    X_test  = X[n:]\n",
        "    Y_train = Y[:n]\n",
        "    Y_test  = Y[n:]\n",
        "    return (X_train, X_test, Y_train, Y_test)\n",
        "X_train, X_test, Y_train, Y_test = train_test_split(X, Y, 7000)\n",
        "X_test.reset_index(inplace = True)\n",
        "X_test.drop(['index'], axis = 1, inplace = True)\n",
        "test_labels = Y_test.to_list()\n",
        "test_features = X_test.to_dict(orient='index')"
      ],
      "execution_count": 88,
      "outputs": [
        {
          "output_type": "stream",
          "text": [
            "/usr/local/lib/python3.6/dist-packages/pandas/core/frame.py:3997: SettingWithCopyWarning: \n",
            "A value is trying to be set on a copy of a slice from a DataFrame\n",
            "\n",
            "See the caveats in the documentation: https://pandas.pydata.org/pandas-docs/stable/user_guide/indexing.html#returning-a-view-versus-a-copy\n",
            "  errors=errors,\n"
          ],
          "name": "stderr"
        }
      ]
    },
    {
      "cell_type": "code",
      "metadata": {
        "id": "ZxC2fvqwG2-Q",
        "colab_type": "code",
        "colab": {
          "base_uri": "https://localhost:8080/",
          "height": 54
        },
        "outputId": "f5d61d0d-19f6-4c3c-c22c-347326c02ab1"
      },
      "source": [
        "oneR_classifier = train_one_rule(X_train, Y_train)\n",
        "print(oneR_classifier)"
      ],
      "execution_count": 89,
      "outputs": [
        {
          "output_type": "stream",
          "text": [
            "{'feature': 'odor', 'rule': {'a': 'e', 'c': 'p', 'f': 'p', 'l': 'e', 'm': 'p', 'n': 'e', 'p': 'p', 's': 'p', 'y': 'p'}}\n"
          ],
          "name": "stdout"
        }
      ]
    },
    {
      "cell_type": "code",
      "metadata": {
        "id": "U72RQdQff6M-",
        "colab_type": "code",
        "colab": {}
      },
      "source": [
        "def predict(oneR_classifer, X):\n",
        "    ideal_feature = oneR_classifer['feature']\n",
        "    rule = oneR_classifer['rule']\n",
        "    return rule[X[ideal_feature]]"
      ],
      "execution_count": 0,
      "outputs": []
    },
    {
      "cell_type": "markdown",
      "metadata": {
        "id": "rCE4VXwsK8je",
        "colab_type": "text"
      },
      "source": [
        "# Step 4. Evaluation model performance"
      ]
    },
    {
      "cell_type": "code",
      "metadata": {
        "id": "81EDCLowK_XC",
        "colab_type": "code",
        "colab": {
          "base_uri": "https://localhost:8080/",
          "height": 34
        },
        "outputId": "08c229bf-ced4-4879-8fb9-f552509cdd22"
      },
      "source": [
        "accurate = 0\n",
        "\n",
        "for i in range(len(test_features)):\n",
        "  predicted = predict(oneR_classifier, test_features[i])\n",
        "  accurate += 1 if predicted == test_labels[i] else 0\n",
        "\n",
        "accurate_ptc = accurate / len(test_features)\n",
        "print(\"Accurate percentage = \" + str(accurate_ptc))"
      ],
      "execution_count": 100,
      "outputs": [
        {
          "output_type": "stream",
          "text": [
            "Accurate percentage = 0.9937722419928826\n"
          ],
          "name": "stdout"
        }
      ]
    }
  ]
}